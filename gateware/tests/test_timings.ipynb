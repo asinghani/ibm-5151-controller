{
 "cells": [
  {
   "cell_type": "code",
   "execution_count": 303,
   "id": "0eaaef81-5322-4cca-93a3-1ee7a5e8072a",
   "metadata": {},
   "outputs": [],
   "source": [
    "from vcdvcd import VCDVCD\n",
    "import numpy as np\n",
    "import matplotlib.pyplot as plt\n",
    "%matplotlib inline"
   ]
  },
  {
   "cell_type": "code",
   "execution_count": null,
   "id": "21043a77-deb7-4982-be71-34360b4c8cf9",
   "metadata": {},
   "outputs": [],
   "source": []
  },
  {
   "cell_type": "code",
   "execution_count": 304,
   "id": "78116b8d-e74e-4fa0-ae01-7e4572b64ef2",
   "metadata": {},
   "outputs": [
    {
     "name": "stdout",
     "output_type": "stream",
     "text": [
      "['TOP.clock', 'TOP.io_mda_hsync', 'TOP.io_mda_intens', 'TOP.io_mda_pixel', 'TOP.io_mda_vsync', 'TOP.io_tp_mode[2:0]', 'TOP.reset', 'TOP.DisplayController.clock', 'TOP.DisplayController.font_rom_io_char_char_code[7:0]', 'TOP.DisplayController.font_rom_io_pixel', 'TOP.DisplayController.font_rom_io_x_idx[3:0]', 'TOP.DisplayController.font_rom_io_y_idx[3:0]', 'TOP.DisplayController.hblank', 'TOP.DisplayController.io_mda_REG_hsync', 'TOP.DisplayController.io_mda_REG_pixel', 'TOP.DisplayController.io_mda_REG_vsync', 'TOP.DisplayController.io_mda_hsync', 'TOP.DisplayController.io_mda_intens', 'TOP.DisplayController.io_mda_pixel', 'TOP.DisplayController.io_mda_vsync', 'TOP.DisplayController.io_tp_mode[2:0]', 'TOP.DisplayController.pix_valid', 'TOP.DisplayController.pixel', 'TOP.DisplayController.reset', 'TOP.DisplayController.vblank', 'TOP.DisplayController.wrap_wrap', 'TOP.DisplayController.wrap_wrap_1', 'TOP.DisplayController.wrap_wrap_2', 'TOP.DisplayController.wrap_wrap_3', 'TOP.DisplayController.xchar[6:0]', 'TOP.DisplayController.xchar_idx[3:0]', 'TOP.DisplayController.xchar_wrap', 'TOP.DisplayController.xchar_wrap_wrap', 'TOP.DisplayController.xctr[9:0]', 'TOP.DisplayController.ychar[4:0]', 'TOP.DisplayController.ychar_idx[3:0]', 'TOP.DisplayController.ychar_wrap', 'TOP.DisplayController.ychar_wrap_wrap', 'TOP.DisplayController.yctr[8:0]', 'TOP.DisplayController.font_rom.io_char_char_code[7:0]', 'TOP.DisplayController.font_rom.io_pixel', 'TOP.DisplayController.font_rom.io_x_idx[3:0]', 'TOP.DisplayController.font_rom.io_y_idx[3:0]']\n"
     ]
    },
    {
     "data": {
      "text/plain": [
       "'\\nclock = \"sim.clock\"\\nmda_vsync = \"sim.MDA_VSYNC\"\\nmda_hsync = \"sim.MDA_HSYNC\"\\nmda_intensity = \"sim.MDA_INTENSITY\"\\nmda_data = \"sim.MDA_DATA\"\\n'"
      ]
     },
     "execution_count": 304,
     "metadata": {},
     "output_type": "execute_result"
    }
   ],
   "source": [
    "# Load the file\n",
    "vcd1 = VCDVCD(\"../test_run_dir/Display_should_generate_appropriate_pulses/DisplayController.vcd\")\n",
    "print(vcd1.signals)\n",
    "\n",
    "clock = \"TOP.DisplayController.clock\"\n",
    "mda_vsync = \"TOP.DisplayController.io_mda_vsync\"\n",
    "mda_hsync = \"TOP.DisplayController.io_mda_hsync\"\n",
    "mda_intensity = \"TOP.DisplayController.io_mda_intens\"\n",
    "mda_data = \"TOP.DisplayController.io_mda_pixel\"\n",
    "\n",
    "\"\"\"\n",
    "clock = \"sim.clock\"\n",
    "mda_vsync = \"sim.MDA_VSYNC\"\n",
    "mda_hsync = \"sim.MDA_HSYNC\"\n",
    "mda_intensity = \"sim.MDA_INTENSITY\"\n",
    "mda_data = \"sim.MDA_DATA\"\n",
    "\"\"\""
   ]
  },
  {
   "cell_type": "code",
   "execution_count": 305,
   "id": "7fa49e05",
   "metadata": {},
   "outputs": [
    {
     "name": "stdout",
     "output_type": "stream",
     "text": [
      "1200001\n"
     ]
    }
   ],
   "source": [
    "# sample on falling edges to ensure determinism\n",
    "edges = [x[0] for x in vcd1[clock].tv if x[1] == '0']\n",
    "print(len(edges))"
   ]
  },
  {
   "cell_type": "code",
   "execution_count": 306,
   "id": "f037b253",
   "metadata": {},
   "outputs": [],
   "source": [
    "# sample the pixels\n",
    "pixels = [(\n",
    "    int(vcd1[mda_vsync][x]),\n",
    "    int(vcd1[mda_hsync][x]),\n",
    "    int(vcd1[mda_intensity][x]),\n",
    "    int(vcd1[mda_data][x])\n",
    ") for x in edges]"
   ]
  },
  {
   "cell_type": "code",
   "execution_count": 307,
   "id": "5fa21504",
   "metadata": {},
   "outputs": [],
   "source": [
    "# trim to start of first frame\n",
    "first_vsync = [i for i, x in enumerate(pixels) if x[0] == 0]\n",
    "first_vsync = first_vsync[0]\n",
    "pixels = pixels[first_vsync:]\n",
    "\n",
    "first_pixel = [i for i, x in enumerate(pixels) if x[0] == 1]\n",
    "first_pixel = first_pixel[0]\n",
    "pixels = pixels[first_pixel:]\n",
    "\n",
    "frames = []\n",
    "\n",
    "while len(pixels):\n",
    "    first_vsync = [i for i, x in enumerate(pixels) if x[0] == 0]\n",
    "    if len(first_vsync) == 0: break\n",
    "    first_vsync = first_vsync[0]\n",
    "    tmp = pixels[:first_vsync]\n",
    "    pixels = pixels[first_vsync:]\n",
    "\n",
    "    first_pixel = [i for i, x in enumerate(pixels) if x[0] == 1]\n",
    "    if len(first_pixel) == 0: break\n",
    "    first_pixel = first_pixel[0]\n",
    "    tmp += pixels[:first_pixel]\n",
    "    pixels = pixels[first_pixel:]\n",
    "    \n",
    "    frames.append(tmp)"
   ]
  },
  {
   "cell_type": "code",
   "execution_count": 308,
   "id": "0bec0a69",
   "metadata": {},
   "outputs": [
    {
     "name": "stdout",
     "output_type": "stream",
     "text": [
      "3\n",
      "[323545, 326196, 326196]\n"
     ]
    }
   ],
   "source": [
    "print(len(frames))\n",
    "print([len(x) for x in frames])"
   ]
  },
  {
   "cell_type": "code",
   "execution_count": 309,
   "id": "93e3e804",
   "metadata": {},
   "outputs": [],
   "source": [
    "frame = frames[1]"
   ]
  },
  {
   "cell_type": "code",
   "execution_count": 310,
   "id": "4cce2377",
   "metadata": {},
   "outputs": [],
   "source": [
    "img = np.zeros((400, 1000, 3), dtype=np.uint8)\n",
    "\n",
    "x = 0\n",
    "y = 0\n",
    "\n",
    "max_x = 0\n",
    "max_y = 0\n",
    "\n",
    "last_hs = 0\n",
    "\n",
    "for vs, hs, intens, data in frame:\n",
    "    \n",
    "    if last_hs and not hs:\n",
    "        x = 0\n",
    "        y += 1\n",
    "    \n",
    "    # green channel = pixel\n",
    "    if data and intens: img[y,x,1] = 255\n",
    "    elif data: img[y,x,1] = 190\n",
    "    else: img[y,x,1] = 0\n",
    "\n",
    "    # red channel = hsync\n",
    "    img[y,x,0] = 160 * hs\n",
    "    \n",
    "    # blue channel = vsync\n",
    "    img[y,x,2] = 255 * (not vs)\n",
    "    \n",
    "    x += 1\n",
    "    \n",
    "    max_x = max(x, max_x)\n",
    "    max_y = max(y+1, max_y)\n",
    "    \n",
    "    last_hs = hs\n",
    "    \n",
    "img = img[:max_y, :max_x]"
   ]
  },
  {
   "cell_type": "code",
   "execution_count": null,
   "id": "68c87924",
   "metadata": {},
   "outputs": [],
   "source": []
  },
  {
   "cell_type": "code",
   "execution_count": 311,
   "id": "c0fa63b1",
   "metadata": {},
   "outputs": [
    {
     "data": {
      "image/png": "[encoded data removed]",
      "text/plain": [
       "<Figure size 1000x1000 with 1 Axes>"
      ]
     },
     "metadata": {},
     "output_type": "display_data"
    }
   ],
   "source": [
    "plt.figure(figsize=(10, 10))\n",
    "plt.imshow(img)\n",
    "plt.imsave(\"image.png\", img)"
   ]
  },
  {
   "cell_type": "code",
   "execution_count": null,
   "id": "f5c2845a",
   "metadata": {},
   "outputs": [],
   "source": []
  },
  {
   "cell_type": "code",
   "execution_count": null,
   "id": "1d112067",
   "metadata": {},
   "outputs": [],
   "source": []
  },
  {
   "cell_type": "code",
   "execution_count": null,
   "id": "8df79317-0476-4764-9636-92a3a5014617",
   "metadata": {},
   "outputs": [],
   "source": []
  },
  {
   "cell_type": "code",
   "execution_count": null,
   "id": "d27a2212-c732-4d6f-83a2-10b3e36f815b",
   "metadata": {},
   "outputs": [],
   "source": []
  },
  {
   "cell_type": "code",
   "execution_count": null,
   "id": "a3b37d19-2c83-45ee-953a-19c4ed1af3e3",
   "metadata": {},
   "outputs": [],
   "source": []
  },
  {
   "cell_type": "code",
   "execution_count": null,
   "id": "9e68ffb0-4b8d-437b-b372-7cc6116d9591",
   "metadata": {},
   "outputs": [],
   "source": []
  },
  {
   "cell_type": "code",
   "execution_count": null,
   "id": "51b6c720-1401-4794-b984-70d8b85657a2",
   "metadata": {},
   "outputs": [],
   "source": []
  },
  {
   "cell_type": "code",
   "execution_count": null,
   "id": "433bb559-f051-4642-a32a-56141c35d641",
   "metadata": {},
   "outputs": [],
   "source": []
  },
  {
   "cell_type": "code",
   "execution_count": null,
   "id": "cf7472f1-f8cd-4c36-9e64-4765eaac62d0",
   "metadata": {},
   "outputs": [],
   "source": []
  }
 ],
 "metadata": {
  "kernelspec": {
   "display_name": "Python 3 (ipykernel)",
   "language": "python",
   "name": "python3"
  },
  "language_info": {
   "codemirror_mode": {
    "name": "ipython",
    "version": 3
   },
   "file_extension": ".py",
   "mimetype": "text/x-python",
   "name": "python",
   "nbconvert_exporter": "python",
   "pygments_lexer": "ipython3",
   "version": "3.10.4"
  }
 },
 "nbformat": 4,
 "nbformat_minor": 5
}
